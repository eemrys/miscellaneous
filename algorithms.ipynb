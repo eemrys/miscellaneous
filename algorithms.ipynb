{
 "cells": [
  {
   "cell_type": "markdown",
   "metadata": {},
   "source": [
    "### Time and space complexity\n",
    "1. Const\n",
    "2. log(log(N))\n",
    "3. log(N)\n",
    "4. N^C, 0<C<1\n",
    "5. N\n",
    "6. N*log(N)\n",
    "7. N^C, C>1\n",
    "8. C^N, C>1\n",
    "9. N!"
   ]
  },
  {
   "cell_type": "markdown",
   "metadata": {},
   "source": [
    "### Merge Sort O(n*logn)"
   ]
  },
  {
   "cell_type": "code",
   "execution_count": 15,
   "metadata": {},
   "outputs": [],
   "source": [
    "def mergeSort(arr):\n",
    "    if len(arr)>1:\n",
    "        mid = len(arr)//2\n",
    "        L = arr[:mid]\n",
    "        R = arr[mid:]\n",
    "        mergeSort(L)\n",
    "        mergeSort(R)\n",
    "        i=j=k=0\n",
    "        while i < len(L) and j < len(R):\n",
    "            if L[i] <= R[j]:\n",
    "                arr[k]=L[i]\n",
    "                i+=1\n",
    "            else:\n",
    "                arr[k]=R[j]\n",
    "                j+=1\n",
    "            k+=1\n",
    "\n",
    "        while i < len(L):\n",
    "            arr[k]=L[i]\n",
    "            i+=1\n",
    "            k+=1\n",
    "\n",
    "        while j < len(R):\n",
    "            arr[k]=R[j]\n",
    "            j+=1\n",
    "            k+=1"
   ]
  },
  {
   "cell_type": "code",
   "execution_count": 16,
   "metadata": {},
   "outputs": [
    {
     "name": "stdout",
     "output_type": "stream",
     "text": [
      "[17, 20, 26, 31, 44, 54, 55, 77, 93]\n",
      "CPU times: user 251 µs, sys: 242 µs, total: 493 µs\n",
      "Wall time: 389 µs\n"
     ]
    }
   ],
   "source": [
    "test = [54,26,93,17,77,31,44,55,20]\n",
    "mergeSort(test)\n",
    "%time print(test)"
   ]
  },
  {
   "cell_type": "markdown",
   "metadata": {},
   "source": [
    "### Bubble Sort O(n2)"
   ]
  },
  {
   "cell_type": "code",
   "execution_count": 75,
   "metadata": {},
   "outputs": [],
   "source": [
    "def bubbleSort(arr):\n",
    "    swapped = True;\n",
    "    while swapped:\n",
    "        swapped = False\n",
    "        for i in range(len(arr)-1):\n",
    "            if arr[i]>arr[i+1]:\n",
    "                arr[i], arr[i+1] = arr[i+1], arr[i]\n",
    "                swapped = True"
   ]
  },
  {
   "cell_type": "code",
   "execution_count": 76,
   "metadata": {},
   "outputs": [
    {
     "name": "stdout",
     "output_type": "stream",
     "text": [
      "[17, 20, 26, 31, 44, 54, 55, 77, 93]\n",
      "CPU times: user 247 µs, sys: 199 µs, total: 446 µs\n",
      "Wall time: 294 µs\n"
     ]
    }
   ],
   "source": [
    "test = [54,26,93,17,77,31,44,55,20]\n",
    "bubbleSort(test)\n",
    "%time print(test)"
   ]
  },
  {
   "cell_type": "markdown",
   "metadata": {},
   "source": [
    "### Selection Sort O(n2)"
   ]
  },
  {
   "cell_type": "code",
   "execution_count": 77,
   "metadata": {},
   "outputs": [],
   "source": [
    "def selectionSort(arr):\n",
    "    for i in range(len(arr)-1):\n",
    "        minimum = i\n",
    "        for j in range(i+1, len(arr)):\n",
    "            if arr[j]<arr[minimum]:\n",
    "                minimum=j\n",
    "        if minimum!=i:\n",
    "            arr[i], arr[minimum] = arr[minimum], arr[minimum]"
   ]
  },
  {
   "cell_type": "code",
   "execution_count": 78,
   "metadata": {},
   "outputs": [
    {
     "name": "stdout",
     "output_type": "stream",
     "text": [
      "[17, 17, 17, 17, 20, 20, 20, 20, 20]\n",
      "CPU times: user 277 µs, sys: 473 µs, total: 750 µs\n",
      "Wall time: 769 µs\n"
     ]
    }
   ],
   "source": [
    "test = [54,26,93,17,77,31,44,55,20]\n",
    "selectionSort(test)\n",
    "%time print(test)"
   ]
  },
  {
   "cell_type": "markdown",
   "metadata": {},
   "source": [
    "### Insertion Sort O(n2)"
   ]
  },
  {
   "cell_type": "code",
   "execution_count": 79,
   "metadata": {},
   "outputs": [],
   "source": [
    "def insertionSort(arr):\n",
    "    for i in range(1,len(arr)):\n",
    "        j = i\n",
    "        while j>0 and arr[j-1]>arr[j]:\n",
    "            arr[j], arr[j-1] = arr[j-1], arr[j]\n",
    "            j-=1"
   ]
  },
  {
   "cell_type": "code",
   "execution_count": 80,
   "metadata": {},
   "outputs": [
    {
     "name": "stdout",
     "output_type": "stream",
     "text": [
      "[17, 20, 26, 31, 44, 54, 55, 77, 93]\n",
      "CPU times: user 180 µs, sys: 81 µs, total: 261 µs\n",
      "Wall time: 207 µs\n"
     ]
    }
   ],
   "source": [
    "test = [54,26,93,17,77,31,44,55,20]\n",
    "insertionSort(test)\n",
    "%time print(test)"
   ]
  },
  {
   "cell_type": "markdown",
   "metadata": {},
   "source": [
    "### Quicksort O(n*logn)"
   ]
  },
  {
   "cell_type": "code",
   "execution_count": 73,
   "metadata": {},
   "outputs": [],
   "source": [
    "def partition(xs, start, end):\n",
    "    follower = leader = start\n",
    "    while leader < end:\n",
    "        if xs[leader] <= xs[end]:\n",
    "            xs[follower], xs[leader] = xs[leader], xs[follower]\n",
    "            follower += 1\n",
    "        leader += 1\n",
    "    xs[follower], xs[end] = xs[end], xs[follower]\n",
    "    return follower\n",
    "\n",
    "def _quicksort(xs, start, end):\n",
    "    if start >= end:\n",
    "        return\n",
    "    p = partition(xs, start, end)\n",
    "    _quicksort(xs, start, p-1)\n",
    "    _quicksort(xs, p+1, end)\n",
    "\n",
    "def quickSort(xs):\n",
    "    return _quicksort(xs, 0, len(xs)-1)"
   ]
  },
  {
   "cell_type": "code",
   "execution_count": 74,
   "metadata": {},
   "outputs": [
    {
     "name": "stdout",
     "output_type": "stream",
     "text": [
      "[17, 20, 26, 31, 44, 54, 55, 77, 93]\n",
      "CPU times: user 112 µs, sys: 74 µs, total: 186 µs\n",
      "Wall time: 196 µs\n"
     ]
    }
   ],
   "source": [
    "test = [54,26,93,17,77,31,44,55,20]\n",
    "quickSort(test)\n",
    "%time print(test)"
   ]
  },
  {
   "cell_type": "markdown",
   "metadata": {},
   "source": [
    "### Binary search O(logn)"
   ]
  },
  {
   "cell_type": "code",
   "execution_count": 90,
   "metadata": {},
   "outputs": [],
   "source": [
    "def binarySearch(arr, value):\n",
    "    left = 0\n",
    "    right = len(arr)-1\n",
    "    while left<=right:\n",
    "        middle = (left+right)//2\n",
    "        if value == arr[middle]:\n",
    "            return middle\n",
    "        elif value > arr[middle]:\n",
    "            left = middle + 1\n",
    "        else:\n",
    "            right = middle - 1\n",
    "    return \"Not found\""
   ]
  },
  {
   "cell_type": "code",
   "execution_count": 122,
   "metadata": {},
   "outputs": [
    {
     "name": "stdout",
     "output_type": "stream",
     "text": [
      "CPU times: user 7 µs, sys: 1 µs, total: 8 µs\n",
      "Wall time: 32.9 µs\n"
     ]
    },
    {
     "data": {
      "text/plain": [
       "4"
      ]
     },
     "execution_count": 122,
     "metadata": {},
     "output_type": "execute_result"
    }
   ],
   "source": [
    "%time binarySearch([1,3,4,5,6,7,8], 6)"
   ]
  },
  {
   "cell_type": "markdown",
   "metadata": {},
   "source": [
    "### Primality test O(sqrt(n)/logn)"
   ]
  },
  {
   "cell_type": "code",
   "execution_count": 130,
   "metadata": {},
   "outputs": [],
   "source": [
    "import math\n",
    "\n",
    "def isPrime(num):\n",
    "    if num == 1:\n",
    "        return False\n",
    "    if num == 2:\n",
    "        return True\n",
    "    if num % 2 == 0:\n",
    "        return False\n",
    "    for i in range(3, math.floor(math.sqrt(num))+1):\n",
    "        if num % i == 0:\n",
    "            return False\n",
    "    return True"
   ]
  },
  {
   "cell_type": "code",
   "execution_count": 136,
   "metadata": {},
   "outputs": [
    {
     "name": "stdout",
     "output_type": "stream",
     "text": [
      "CPU times: user 13 µs, sys: 0 ns, total: 13 µs\n",
      "Wall time: 16.9 µs\n"
     ]
    },
    {
     "data": {
      "text/plain": [
       "True"
      ]
     },
     "execution_count": 136,
     "metadata": {},
     "output_type": "execute_result"
    }
   ],
   "source": [
    "%time isPrime(487)"
   ]
  },
  {
   "cell_type": "markdown",
   "metadata": {},
   "source": [
    "### Sieve of Eratosthenes -- generate prime numbers O(nlog(log(n)))"
   ]
  },
  {
   "cell_type": "code",
   "execution_count": 157,
   "metadata": {},
   "outputs": [],
   "source": [
    "def sieveOfEratosthenes(n):\n",
    "    isComposite = [False]*(n+1)\n",
    "    root = math.floor(math.sqrt(n))\n",
    "    for num in range(2, root+1):\n",
    "        if not isComposite[num]:\n",
    "            print(num, end=\". \")\n",
    "            for k in range(num**2, n+1, num):\n",
    "                isComposite[k] = True\n",
    "    for num in range(root+1, n+1):\n",
    "        if not isComposite[num]:\n",
    "            print(num, end=\". \")"
   ]
  },
  {
   "cell_type": "code",
   "execution_count": 159,
   "metadata": {},
   "outputs": [
    {
     "name": "stdout",
     "output_type": "stream",
     "text": [
      "2. 3. 5. 7. 11. 13. 17. 19. 23. 29. 31. 37. 41. 43. 47. 53. 59. CPU times: user 366 µs, sys: 48 µs, total: 414 µs\n",
      "Wall time: 557 µs\n"
     ]
    }
   ],
   "source": [
    "%time sieveOfEratosthenes(59)"
   ]
  },
  {
   "cell_type": "markdown",
   "metadata": {},
   "source": [
    "### DFS and BFS (adjacent list representation) , O(V + E)"
   ]
  },
  {
   "cell_type": "code",
   "execution_count": 206,
   "metadata": {},
   "outputs": [],
   "source": [
    "from collections import defaultdict \n",
    "\n",
    "class GraphList: \n",
    "    def __init__(self): \n",
    "        self.graph = defaultdict(list) \n",
    "    def addEdge(self, u, v): \n",
    "        self.graph[u].append(v) \n",
    "    def DFSUtil(self, v, visited): \n",
    "        visited[v] = True\n",
    "        print(v, end = ' ') \n",
    "        for i in self.graph[v]: \n",
    "            if visited[i] == False: \n",
    "                self.DFSUtil(i, visited) \n",
    "    def DFS(self, v): \n",
    "        visited = [False] * (len(self.graph)) \n",
    "        self.DFSUtil(v, visited)\n",
    "    def BFS(self, v): \n",
    "        visited = [False] * (len(self.graph)) \n",
    "        queue = [] \n",
    "        queue.append(v) \n",
    "        visited[v] = True  \n",
    "        while queue: \n",
    "            v = queue.pop(0) \n",
    "            print (v, end = \" \") \n",
    "            for i in self.graph[v]: \n",
    "                if visited[i] == False: \n",
    "                    queue.append(i) \n",
    "                    visited[i] = True"
   ]
  },
  {
   "cell_type": "code",
   "execution_count": 208,
   "metadata": {},
   "outputs": [
    {
     "name": "stdout",
     "output_type": "stream",
     "text": [
      "2 0 3 1 "
     ]
    }
   ],
   "source": [
    "g = GraphList() \n",
    "g.addEdge(0, 1) \n",
    "g.addEdge(0, 2) \n",
    "g.addEdge(1, 2) \n",
    "g.addEdge(2, 0) \n",
    "g.addEdge(2, 3) \n",
    "g.addEdge(3, 3)\n",
    "  \n",
    "g.BFS(2)"
   ]
  },
  {
   "cell_type": "markdown",
   "metadata": {},
   "source": [
    "### DFS and BFS (adjacent matrix representation), O(V + E)"
   ]
  },
  {
   "cell_type": "code",
   "execution_count": 214,
   "metadata": {},
   "outputs": [],
   "source": [
    "class GraphMatrix(object):\n",
    "    def __init__(self, numNodes):\n",
    "        self.graph = [] # 2D list\n",
    "        for i in range(numNodes): \n",
    "            self.graph.append([0 for i in range(numNodes)])\n",
    "        self.numNodes = numNodes\n",
    "    def addEdge(self, start, end):\n",
    "        self.graph[start][end] = 1        \n",
    "    def DFSUtil(self, v, visited): \n",
    "        visited[v] = True\n",
    "        print(v, end = ' ') \n",
    "        for i in range(len(self.graph)): \n",
    "            if visited[i] == False and self.graph[v][i] == 1: \n",
    "                self.DFSUtil(i, visited) \n",
    "    def DFS(self, v): \n",
    "        visited = [False] * (len(self.graph)) \n",
    "        self.DFSUtil(v, visited)\n",
    "    def BFS(self, v): \n",
    "        visited = [False] * (len(self.graph)) \n",
    "        queue = [] \n",
    "        queue.append(v) \n",
    "        visited[v] = True  \n",
    "        while queue: \n",
    "            v = queue.pop(0) \n",
    "            print (v, end = \" \") \n",
    "            for i in range(len(self.graph)): \n",
    "                if visited[i] == False and self.graph[v][i] == 1:\n",
    "                    queue.append(i) \n",
    "                    visited[i] = True"
   ]
  },
  {
   "cell_type": "code",
   "execution_count": 215,
   "metadata": {},
   "outputs": [
    {
     "name": "stdout",
     "output_type": "stream",
     "text": [
      "2 0 3 1 "
     ]
    }
   ],
   "source": [
    "g = GraphMatrix(4) \n",
    "g.addEdge(0, 1) \n",
    "g.addEdge(0, 2) \n",
    "g.addEdge(1, 2) \n",
    "g.addEdge(2, 0) \n",
    "g.addEdge(2, 3) \n",
    "g.addEdge(3, 3)\n",
    "  \n",
    "g.BFS(2)"
   ]
  },
  {
   "cell_type": "markdown",
   "metadata": {},
   "source": [
    "### Generate balanced parentheses"
   ]
  },
  {
   "cell_type": "code",
   "execution_count": 56,
   "metadata": {},
   "outputs": [
    {
     "name": "stdout",
     "output_type": "stream",
     "text": [
      "((()))\n",
      "(()())\n",
      "(())()\n",
      "()(())\n",
      "()()()\n"
     ]
    }
   ],
   "source": [
    "def parenth(s, n, opened, closed): \n",
    "    if len(s) == 2*n:\n",
    "        if opened == closed: \n",
    "            print(s) \n",
    "        return\n",
    "    parenth(s + '(', n, opened + 1, closed)\n",
    "    if opened > closed:        \n",
    "        parenth(s + ')', n, opened, closed + 1)\n",
    "parenth(\"\", 3, 0, 0)"
   ]
  },
  {
   "cell_type": "markdown",
   "metadata": {},
   "source": [
    "### Check if expr is balanced"
   ]
  },
  {
   "cell_type": "code",
   "execution_count": 73,
   "metadata": {},
   "outputs": [
    {
     "data": {
      "text/plain": [
       "True"
      ]
     },
     "execution_count": 73,
     "metadata": {},
     "output_type": "execute_result"
    }
   ],
   "source": [
    "def isBalanced(exp):\n",
    "    if len(exp) <= 0:\n",
    "        return False\n",
    "    s = []\n",
    "    for ch in exp:\n",
    "        if ch == '(':\n",
    "            s.append('(')\n",
    "        else:\n",
    "            if len(s) <= 0:\n",
    "                return False\n",
    "            s.pop()\n",
    "    if len(s) > 0:\n",
    "        return False\n",
    "    return True\n",
    "isBalanced('(())')"
   ]
  },
  {
   "cell_type": "markdown",
   "metadata": {},
   "source": [
    "### Merge 'n' sorted arrays"
   ]
  },
  {
   "cell_type": "code",
   "execution_count": 84,
   "metadata": {},
   "outputs": [
    {
     "name": "stdout",
     "output_type": "stream",
     "text": [
      "4\n",
      "6 2 26 64 88 96 96\n",
      "4 8 20 65 86\n",
      "7 1 4 16 42 58 61 69\n",
      "1 84\n",
      "1 2 4 8 16 20 26 42 58 61 64 65 69 84 86 88 96 96\n"
     ]
    }
   ],
   "source": [
    "def merge(L, R):\n",
    "    arr = []\n",
    "    i=j=0\n",
    "    while i < len(L) and j < len(R):\n",
    "        if L[i] <= R[j]:\n",
    "            arr.append(L[i])\n",
    "            i+=1\n",
    "        else:\n",
    "            arr.append(R[j])\n",
    "            j+=1\n",
    "    while i < len(L):\n",
    "        arr.append(L[i])\n",
    "        i+=1\n",
    "    while j < len(R):\n",
    "        arr.append(R[j])\n",
    "        j+=1\n",
    "    return arr\n",
    "\n",
    "n = int(input())\n",
    "arr = []\n",
    "for i in range(n):\n",
    "    line = [int(i) for i in input().split()]\n",
    "    del line[0]\n",
    "    arr.append(line)\n",
    "while len(arr) > 1:\n",
    "    temp = []\n",
    "    for i in range(0, len(arr), 2):\n",
    "        if i == n - 1:\n",
    "            temp.append(arr[i])\n",
    "        else:\n",
    "            temp.append(merge(arr[i],arr[i+1]))\n",
    "    arr = temp\n",
    "print(*arr[0])"
   ]
  },
  {
   "cell_type": "markdown",
   "metadata": {},
   "source": [
    "### Merge 'n' sorted arrays (v2)"
   ]
  },
  {
   "cell_type": "code",
   "execution_count": 6,
   "metadata": {},
   "outputs": [
    {
     "name": "stdout",
     "output_type": "stream",
     "text": [
      "4\n",
      "6 2 26 64 88 96 96\n",
      "4 8 20 65 86\n",
      "7 1 4 16 42 58 61 69\n",
      "1 84\n",
      "1 2 4 8 16 20 26 42 58 61 64 65 69 84 86 88 96 96 "
     ]
    }
   ],
   "source": [
    "n = int(input())\n",
    "if n > 0:\n",
    "    arr = []\n",
    "    temp = []\n",
    "    for k in range(n):\n",
    "        line = [int(i) for i in input().split()]\n",
    "        del line[0]\n",
    "        if len(line)>0:\n",
    "            arr.append(line)\n",
    "            temp.append(line.pop(0))\n",
    "    while len(temp) > 0:\n",
    "        i = temp.index(min(temp))\n",
    "        print(temp[i],end=\" \")\n",
    "        if len(arr[i]) > 0:\n",
    "            temp[i] = arr[i].pop(0)\n",
    "        else:\n",
    "            del temp[i]\n",
    "            del arr[i]"
   ]
  },
  {
   "cell_type": "markdown",
   "metadata": {},
   "source": [
    "### Linked list"
   ]
  },
  {
   "cell_type": "code",
   "execution_count": 20,
   "metadata": {},
   "outputs": [],
   "source": [
    "class Node: \n",
    "    def __init__(self, val): \n",
    "        self.val = val\n",
    "        self.next = None\n",
    "\n",
    "class LinkedList:\n",
    "    def __init__(self): \n",
    "        self.head = None\n",
    "    def createList(self, n):\n",
    "        self.head = cur = Node(1)\n",
    "        for i in range(2,n+1):\n",
    "            temp = Node(i)\n",
    "            cur.next = temp\n",
    "            cur = temp\n",
    "    def printList(self):\n",
    "        head = self.head\n",
    "        while head.next:\n",
    "            print(head.val, end=\"->\")\n",
    "            head = head.next\n",
    "        print(head.val)\n",
    "    def reverseList(self):\n",
    "        cur = self.head\n",
    "        nex = None\n",
    "        while cur.next:\n",
    "            temp = cur.next\n",
    "            cur.next = nex\n",
    "            nex = cur\n",
    "            cur = temp\n",
    "        cur.next = nex\n",
    "        self.head = cur"
   ]
  },
  {
   "cell_type": "code",
   "execution_count": 21,
   "metadata": {},
   "outputs": [
    {
     "name": "stdout",
     "output_type": "stream",
     "text": [
      "10->9->8->7->6->5->4->3->2->1\n"
     ]
    }
   ],
   "source": [
    "l = LinkedList()\n",
    "l.createList(10)\n",
    "l.reverseList()\n",
    "l.printList()"
   ]
  }
 ],
 "metadata": {
  "kernelspec": {
   "display_name": "Python 3",
   "language": "python",
   "name": "python3"
  },
  "language_info": {
   "codemirror_mode": {
    "name": "ipython",
    "version": 3
   },
   "file_extension": ".py",
   "mimetype": "text/x-python",
   "name": "python",
   "nbconvert_exporter": "python",
   "pygments_lexer": "ipython3",
   "version": "3.8.7"
  }
 },
 "nbformat": 4,
 "nbformat_minor": 2
}
